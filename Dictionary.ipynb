{
 "cells": [
  {
   "cell_type": "markdown",
   "id": "6b848f94-e176-4600-b5ca-a63f60596a3d",
   "metadata": {},
   "source": [
    "# **Creating A Dictionary**"
   ]
  },
  {
   "cell_type": "code",
   "execution_count": 1,
   "id": "4679d168-62e1-4525-a68e-dfc906b00b75",
   "metadata": {},
   "outputs": [
    {
     "name": "stdout",
     "output_type": "stream",
     "text": [
      "Initial dictionary: {'name': 'Alice', 'age': 25, 'city': 'New York'}\n"
     ]
    }
   ],
   "source": [
    "my_dict = {'name': 'Alice', 'age': 25, 'city': 'New York'}\n",
    "print(\"Initial dictionary:\", my_dict)"
   ]
  },
  {
   "cell_type": "markdown",
   "id": "8f5446f1-8377-447b-aeec-70e8526bf4dd",
   "metadata": {},
   "source": [
    "# **Accessing elements**"
   ]
  },
  {
   "cell_type": "code",
   "execution_count": 2,
   "id": "513b1937-ee25-441f-b34c-19cfef40251b",
   "metadata": {},
   "outputs": [
    {
     "name": "stdout",
     "output_type": "stream",
     "text": [
      "Name: Alice\n"
     ]
    }
   ],
   "source": [
    "name = my_dict['name']\n",
    "print(\"Name:\", name)"
   ]
  },
  {
   "cell_type": "markdown",
   "id": "ac164fb2-ccec-49f0-80c8-d04f0aaeb0f5",
   "metadata": {},
   "source": [
    "# **Adding elements**"
   ]
  },
  {
   "cell_type": "markdown",
   "id": "ee5baba8-90b2-41c8-91f3-2ea2939912a8",
   "metadata": {},
   "source": [
    "my_dict['job'] = 'Engineer'\n",
    "print(\"After adding job:\", my_dict)"
   ]
  },
  {
   "cell_type": "markdown",
   "id": "4c604783-13a1-4649-b794-0307f755bc2c",
   "metadata": {},
   "source": [
    "# **Modifying elements**"
   ]
  },
  {
   "cell_type": "code",
   "execution_count": 4,
   "id": "69384171-9a8d-4036-993f-21b20089aeea",
   "metadata": {},
   "outputs": [
    {
     "name": "stdout",
     "output_type": "stream",
     "text": [
      "After modifying age: {'name': 'Alice', 'age': 26, 'city': 'New York', 'job': 'Engineer'}\n"
     ]
    }
   ],
   "source": [
    "my_dict['age'] = 26\n",
    "print(\"After modifying age:\", my_dict)"
   ]
  },
  {
   "cell_type": "markdown",
   "id": "d2f690f4-8e7f-4775-9d75-b1b3545a4133",
   "metadata": {},
   "source": [
    "# **Removing elements**"
   ]
  },
  {
   "cell_type": "markdown",
   "id": "cc210810-5c3b-449e-a52f-5689b11fb38c",
   "metadata": {},
   "source": [
    "## *Using pop() to remove an element and get its value*"
   ]
  },
  {
   "cell_type": "code",
   "execution_count": 5,
   "id": "a60b1d45-68f3-4037-8617-94ad8a14ada0",
   "metadata": {},
   "outputs": [
    {
     "name": "stdout",
     "output_type": "stream",
     "text": [
      "After removing city (value was New York): {'name': 'Alice', 'age': 26, 'job': 'Engineer'}\n"
     ]
    }
   ],
   "source": [
    "removed_value = my_dict.pop('city')\n",
    "print(\"After removing city (value was {}):\".format(removed_value), my_dict)"
   ]
  },
  {
   "cell_type": "markdown",
   "id": "bddf3623-a320-46af-b1eb-0ce9796d9549",
   "metadata": {},
   "source": [
    "## *Using del to remove an element*"
   ]
  },
  {
   "cell_type": "code",
   "execution_count": 6,
   "id": "0d28e136-4a2f-4060-9bad-27f6022bf957",
   "metadata": {},
   "outputs": [
    {
     "name": "stdout",
     "output_type": "stream",
     "text": [
      "After deleting job: {'name': 'Alice', 'age': 26}\n"
     ]
    }
   ],
   "source": [
    "del my_dict['job']\n",
    "print(\"After deleting job:\", my_dict)"
   ]
  },
  {
   "cell_type": "markdown",
   "id": "80a2dce6-4201-4a37-9390-cdda970955a6",
   "metadata": {},
   "source": [
    "## *Using popitem() to remove the last inserted element*"
   ]
  },
  {
   "cell_type": "code",
   "execution_count": 7,
   "id": "b5f4348b-e0d2-4d51-890f-15581213d080",
   "metadata": {},
   "outputs": [
    {
     "name": "stdout",
     "output_type": "stream",
     "text": [
      "After popitem (removed item was ('age', 26)): {'name': 'Alice'}\n"
     ]
    }
   ],
   "source": [
    "removed_item = my_dict.popitem()\n",
    "print(\"After popitem (removed item was {}):\".format(removed_item), my_dict)"
   ]
  },
  {
   "cell_type": "markdown",
   "id": "2d9673b2-32d7-4c30-b898-414f59ed6e02",
   "metadata": {},
   "source": [
    "# **Additional Operations**"
   ]
  },
  {
   "cell_type": "markdown",
   "id": "ab0296fc-2027-4d57-93c4-1006980c820e",
   "metadata": {},
   "source": [
    "## *Checking if a key exists*"
   ]
  },
  {
   "cell_type": "code",
   "execution_count": 8,
   "id": "55745057-3dd5-43e6-9f8c-cfbf28ec77dc",
   "metadata": {},
   "outputs": [
    {
     "name": "stdout",
     "output_type": "stream",
     "text": [
      "Does 'name' exist in the dictionary? True\n"
     ]
    }
   ],
   "source": [
    "key_exists = 'name' in my_dict\n",
    "print(\"Does 'name' exist in the dictionary?\", key_exists)"
   ]
  },
  {
   "cell_type": "markdown",
   "id": "a47334a3-f69f-4773-a303-4aa38d2609e3",
   "metadata": {},
   "source": [
    "## *Getting the value of a key with a default if the key does not exist*"
   ]
  },
  {
   "cell_type": "code",
   "execution_count": 9,
   "id": "ad7b46d7-a24b-4114-87dd-8544bb66c7d2",
   "metadata": {},
   "outputs": [
    {
     "name": "stdout",
     "output_type": "stream",
     "text": [
      "Age: Not found\n"
     ]
    }
   ],
   "source": [
    "age = my_dict.get('age', 'Not found')\n",
    "print(\"Age:\", age)"
   ]
  },
  {
   "cell_type": "markdown",
   "id": "12364216-9d8d-4188-bee1-10ff8902762a",
   "metadata": {},
   "source": [
    "## *Getting keys, values, and items*"
   ]
  },
  {
   "cell_type": "code",
   "execution_count": 10,
   "id": "7b82563e-ccd6-47a5-a5c4-b9ada911383d",
   "metadata": {},
   "outputs": [
    {
     "name": "stdout",
     "output_type": "stream",
     "text": [
      "Keys: dict_keys(['name'])\n",
      "Values: dict_values(['Alice'])\n",
      "Items: dict_items([('name', 'Alice')])\n"
     ]
    }
   ],
   "source": [
    "keys = my_dict.keys()\n",
    "values = my_dict.values()\n",
    "items = my_dict.items()\n",
    "print(\"Keys:\", keys)\n",
    "print(\"Values:\", values)\n",
    "print(\"Items:\", items)"
   ]
  },
  {
   "cell_type": "markdown",
   "id": "ef5bb3c4-7ce7-4fbc-9473-74562e8e993e",
   "metadata": {},
   "source": [
    "## *Copying the dictionary*"
   ]
  },
  {
   "cell_type": "code",
   "execution_count": 11,
   "id": "2c9d812d-538f-4e0b-9a07-20b42d482592",
   "metadata": {},
   "outputs": [
    {
     "name": "stdout",
     "output_type": "stream",
     "text": [
      "Copied dictionary: {'name': 'Alice'}\n"
     ]
    }
   ],
   "source": [
    "copied_dict = my_dict.copy()\n",
    "print(\"Copied dictionary:\", copied_dict)"
   ]
  },
  {
   "cell_type": "markdown",
   "id": "35bad66a-8b66-45e7-bce1-ca2289c32b5a",
   "metadata": {},
   "source": [
    "## *Clearing the dictionary*"
   ]
  },
  {
   "cell_type": "code",
   "execution_count": 13,
   "id": "8900336e-36b1-4227-b419-22ba6b8844ee",
   "metadata": {},
   "outputs": [
    {
     "name": "stdout",
     "output_type": "stream",
     "text": [
      "After clearing: {}\n"
     ]
    }
   ],
   "source": [
    "my_dict.clear()\n",
    "print(\"After clearing:\",my_dict)"
   ]
  },
  {
   "cell_type": "markdown",
   "id": "8eaab78c-058c-4850-ba8c-17aa141a1437",
   "metadata": {},
   "source": [
    "## *Merging two dictionaries*"
   ]
  },
  {
   "cell_type": "code",
   "execution_count": 14,
   "id": "66b6e302-e1b1-4f85-a252-65794f3433bd",
   "metadata": {},
   "outputs": [
    {
     "name": "stdout",
     "output_type": "stream",
     "text": [
      "Reinitialized dictionary: {'name': 'Alice', 'age': 25, 'city': 'New York'}\n",
      "After merging with additional_info: {'name': 'Alice', 'age': 25, 'city': 'New York', 'job': 'Engineer', 'hobbies': ['Reading', 'Traveling']}\n"
     ]
    }
   ],
   "source": [
    "my_dict = {'name': 'Alice', 'age': 25, 'city': 'New York'}\n",
    "print(\"Reinitialized dictionary:\", my_dict)\n",
    "additional_info = {'job': 'Engineer', 'hobbies': ['Reading', 'Traveling']}\n",
    "my_dict.update(additional_info)\n",
    "print(\"After merging with additional_info:\", my_dict)"
   ]
  },
  {
   "cell_type": "markdown",
   "id": "fe45eb7d-1246-4568-ade5-6955036dacd3",
   "metadata": {},
   "source": [
    "## *Dictionary comprehension*"
   ]
  },
  {
   "cell_type": "code",
   "execution_count": 15,
   "id": "517bd4be-0896-4cf0-9c15-f022f378d4f9",
   "metadata": {},
   "outputs": [
    {
     "name": "stdout",
     "output_type": "stream",
     "text": [
      "Squared ages dictionary: {'age': 625, 'experience': 16}\n"
     ]
    }
   ],
   "source": [
    "squared_ages = {key: value**2 for key, value in {'age': 25, 'experience': 4}.items()}\n",
    "print(\"Squared ages dictionary:\", squared_ages)"
   ]
  },
  {
   "cell_type": "markdown",
   "id": "33ba2f7d-b5e6-451b-ad15-e9e06da06ed6",
   "metadata": {},
   "source": [
    "## *Creating a dictionary from keys with a default value*"
   ]
  },
  {
   "cell_type": "code",
   "execution_count": 16,
   "id": "b5a2b05d-3217-419e-b8bb-7d2af9b6edab",
   "metadata": {},
   "outputs": [
    {
     "name": "stdout",
     "output_type": "stream",
     "text": [
      "Dictionary from keys with default value: {'name': 'Unknown', 'age': 'Unknown', 'city': 'Unknown'}\n"
     ]
    }
   ],
   "source": [
    "keys = ['name', 'age', 'city']\n",
    "default_dict = dict.fromkeys(keys, 'Unknown')\n",
    "print(\"Dictionary from keys with default value:\", default_dict)"
   ]
  },
  {
   "cell_type": "markdown",
   "id": "5f65e75c-2d6a-4911-bef0-1fde6615f8a6",
   "metadata": {},
   "source": [
    "## *Iterating through a dictionary*"
   ]
  },
  {
   "cell_type": "code",
   "execution_count": 17,
   "id": "057701b1-e379-4a51-b7b5-c2f00a030dc4",
   "metadata": {},
   "outputs": [
    {
     "name": "stdout",
     "output_type": "stream",
     "text": [
      "Key: name, Value: Alice\n",
      "Key: age, Value: 25\n",
      "Key: city, Value: New York\n",
      "Key: job, Value: Engineer\n",
      "Key: hobbies, Value: ['Reading', 'Traveling']\n"
     ]
    }
   ],
   "source": [
    "for key, value in my_dict.items():\n",
    "    print(f\"Key: {key}, Value: {value}\")"
   ]
  },
  {
   "cell_type": "markdown",
   "id": "5b30b807-9516-48e7-bdcc-34db8a5e3168",
   "metadata": {},
   "source": [
    "## *Nested dictionaries*"
   ]
  },
  {
   "cell_type": "code",
   "execution_count": 18,
   "id": "9bc2be4e-e561-4b62-83ac-22ed33db4ef3",
   "metadata": {},
   "outputs": [
    {
     "name": "stdout",
     "output_type": "stream",
     "text": [
      "Nested dictionary: {'person1': {'name': 'Alice', 'age': 25}, 'person2': {'name': 'Bob', 'age': 30}}\n"
     ]
    }
   ],
   "source": [
    "nested_dict = {\n",
    "    'person1': {'name': 'Alice', 'age': 25},\n",
    "    'person2': {'name': 'Bob', 'age': 30}\n",
    "}\n",
    "print(\"Nested dictionary:\", nested_dict)"
   ]
  },
  {
   "cell_type": "markdown",
   "id": "62f646d4-16d0-445e-90fe-bfa5c7253a96",
   "metadata": {},
   "source": [
    "## *Accessing elements in a nested dictionary*"
   ]
  },
  {
   "cell_type": "code",
   "execution_count": 19,
   "id": "f81e3b5a-27e5-481f-89c8-2ed875c320cd",
   "metadata": {},
   "outputs": [
    {
     "name": "stdout",
     "output_type": "stream",
     "text": [
      "Person1's name: Alice\n"
     ]
    }
   ],
   "source": [
    "person1_name = nested_dict['person1']['name']\n",
    "print(\"Person1's name:\", person1_name)"
   ]
  },
  {
   "cell_type": "markdown",
   "id": "80e76608-4d5a-41f6-a047-ddad8cd73448",
   "metadata": {},
   "source": [
    "## *Merging dictionaries (Python 3.9+)*"
   ]
  },
  {
   "cell_type": "markdown",
   "id": "2cffb57e-d83f-4911-b2a8-ffdd67a16c5d",
   "metadata": {},
   "source": [
    "dict1 = {'a': 1, 'b': 2}\n",
    "dict2 = {'b': 3, 'c': 4}\n",
    "merged_dict = dict1 | dict2 \n",
    "print(\"Merged dictionary using |:\", merged_dict)"
   ]
  },
  {
   "cell_type": "markdown",
   "id": "0b9698b7-3657-4f5c-b2d9-81aac4257d0c",
   "metadata": {},
   "source": [
    "## *Using defaultdict from collections*"
   ]
  },
  {
   "cell_type": "code",
   "execution_count": 21,
   "id": "15a3a740-e99b-4dcb-857d-a98c821d83a9",
   "metadata": {},
   "outputs": [
    {
     "name": "stdout",
     "output_type": "stream",
     "text": [
      "Default dict with int: defaultdict(<class 'int'>, {'key1': 1})\n"
     ]
    }
   ],
   "source": [
    "from collections import defaultdict\n",
    "default_dict = defaultdict(int)\n",
    "default_dict['key1'] += 1\n",
    "print(\"Default dict with int:\", default_dict)"
   ]
  },
  {
   "cell_type": "markdown",
   "id": "e25b6efc-8ac4-4040-8fcf-0171298ae3ab",
   "metadata": {},
   "source": [
    "## *Counting elements with defaultdict*"
   ]
  },
  {
   "cell_type": "code",
   "execution_count": 22,
   "id": "83914412-467c-40d1-878a-88fb871312eb",
   "metadata": {},
   "outputs": [
    {
     "name": "stdout",
     "output_type": "stream",
     "text": [
      "Count dictionary: defaultdict(<class 'int'>, {'a': 3, 'b': 2, 'c': 1})\n"
     ]
    }
   ],
   "source": [
    "from collections import defaultdict\n",
    "count_dict = defaultdict(int)\n",
    "elements = ['a', 'b', 'a', 'c', 'a', 'b']\n",
    "for element in elements:\n",
    "    count_dict[element] += 1\n",
    "print(\"Count dictionary:\", count_dict)"
   ]
  },
  {
   "cell_type": "markdown",
   "id": "1793a0f9-11ed-40ab-a328-cc2a1308a1ea",
   "metadata": {},
   "source": [
    "## *Using Counter from collections*"
   ]
  },
  {
   "cell_type": "code",
   "execution_count": 23,
   "id": "0e7dfaff-7aab-4b9c-88ca-5221b13943d4",
   "metadata": {},
   "outputs": [
    {
     "name": "stdout",
     "output_type": "stream",
     "text": [
      "Counter: Counter({'a': 3, 'b': 2, 'c': 1})\n"
     ]
    }
   ],
   "source": [
    "from collections import Counter\n",
    "counter = Counter(elements)\n",
    "print(\"Counter:\", counter)"
   ]
  },
  {
   "cell_type": "markdown",
   "id": "f50c3c8e-9a4a-4e83-9c88-3fb027623017",
   "metadata": {},
   "source": [
    "## *Sorting a dictionary by key*"
   ]
  },
  {
   "cell_type": "code",
   "execution_count": 24,
   "id": "7a065d2f-3856-4ec0-ab03-60bd67ebd3f6",
   "metadata": {},
   "outputs": [
    {
     "name": "stdout",
     "output_type": "stream",
     "text": [
      "Dictionary sorted by key: {'age': 25, 'city': 'New York', 'hobbies': ['Reading', 'Traveling'], 'job': 'Engineer', 'name': 'Alice'}\n"
     ]
    }
   ],
   "source": [
    "sorted_by_key = dict(sorted(my_dict.items()))\n",
    "print(\"Dictionary sorted by key:\", sorted_by_key)"
   ]
  },
  {
   "cell_type": "markdown",
   "id": "3698341b-aee2-40b0-b09f-c44ab4228df1",
   "metadata": {},
   "source": [
    "## *Sorting a dictionary by value*"
   ]
  },
  {
   "cell_type": "code",
   "execution_count": 26,
   "id": "1b2499b5-f00a-42bd-a9f2-07d501326c5a",
   "metadata": {},
   "outputs": [
    {
     "name": "stdout",
     "output_type": "stream",
     "text": [
      "Dictionary sorted by value: {'a': 1, 'b': 2}\n"
     ]
    }
   ],
   "source": [
    "sorted_by_value = dict(sorted(dict1.items(), key=lambda item: item[1]))\n",
    "print(\"Dictionary sorted by value:\", sorted_by_value)"
   ]
  },
  {
   "cell_type": "markdown",
   "id": "c665476b-8fed-4ae8-b4b3-417f82702fcd",
   "metadata": {},
   "source": [
    "## *Getting the length of the dictionary*"
   ]
  },
  {
   "cell_type": "code",
   "execution_count": 27,
   "id": "bbe1f3e5-5ca5-437d-99f8-944f9ffe95dd",
   "metadata": {},
   "outputs": [
    {
     "name": "stdout",
     "output_type": "stream",
     "text": [
      "Length of the dictionary: 5\n"
     ]
    }
   ],
   "source": [
    "dict_length = len(my_dict)\n",
    "print(\"Length of the dictionary:\", dict_length)"
   ]
  },
  {
   "cell_type": "markdown",
   "id": "2820d47f-418f-4c1e-b4ec-d7105f96c9e2",
   "metadata": {},
   "source": [
    "## *Checking if all values meet a condition*"
   ]
  },
  {
   "cell_type": "code",
   "execution_count": 28,
   "id": "4813abf5-b62f-4484-839d-307ee58f757a",
   "metadata": {},
   "outputs": [
    {
     "name": "stdout",
     "output_type": "stream",
     "text": [
      "Are all values in 'person1' above 20? True\n"
     ]
    }
   ],
   "source": [
    "all_ages_above_20 = all(value > 20 for value in nested_dict['person1'].values() if isinstance(value, int))\n",
    "print(\"Are all values in 'person1' above 20?\", all_ages_above_20)"
   ]
  },
  {
   "cell_type": "markdown",
   "id": "fa1ea47f-1fe3-4a55-aea8-e1887fedf409",
   "metadata": {},
   "source": [
    "## *Checking if any value meets a condition*"
   ]
  },
  {
   "cell_type": "code",
   "execution_count": 30,
   "id": "bc946435-3121-4cda-9ac5-d55e1729b572",
   "metadata": {},
   "outputs": [
    {
     "name": "stdout",
     "output_type": "stream",
     "text": [
      "Is any value in 'person2' above 25? True\n"
     ]
    }
   ],
   "source": [
    "any_age_above_25 = any(value > 25 for value in nested_dict['person2'].values() if isinstance(value, int))\n",
    "print(\"Is any value in 'person2' above 25?\", any_age_above_25)"
   ]
  },
  {
   "cell_type": "code",
   "execution_count": null,
   "id": "34239a33-4c5b-45bd-8e34-864af237ac65",
   "metadata": {},
   "outputs": [],
   "source": []
  }
 ],
 "metadata": {
  "kernelspec": {
   "display_name": "Python 3 (ipykernel)",
   "language": "python",
   "name": "python3"
  },
  "language_info": {
   "codemirror_mode": {
    "name": "ipython",
    "version": 3
   },
   "file_extension": ".py",
   "mimetype": "text/x-python",
   "name": "python",
   "nbconvert_exporter": "python",
   "pygments_lexer": "ipython3",
   "version": "3.12.3"
  }
 },
 "nbformat": 4,
 "nbformat_minor": 5
}
