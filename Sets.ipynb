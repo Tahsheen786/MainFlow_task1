{
 "cells": [
  {
   "cell_type": "markdown",
   "id": "4b01dcbd-c951-42b5-b28f-5310047266d7",
   "metadata": {},
   "source": [
    "# **Creating a set**"
   ]
  },
  {
   "cell_type": "code",
   "execution_count": 1,
   "id": "8cfef79b-d382-4e49-9b79-4df662ced81f",
   "metadata": {},
   "outputs": [
    {
     "name": "stdout",
     "output_type": "stream",
     "text": [
      "Initial set: {1, 2, 3, 4, 5}\n"
     ]
    }
   ],
   "source": [
    "my_set = {1, 2, 3, 4, 5}\n",
    "print(\"Initial set:\", my_set)"
   ]
  },
  {
   "cell_type": "markdown",
   "id": "c67c842d-f256-490c-88c9-2297733a2d62",
   "metadata": {},
   "source": [
    "# **Adding elements to the set**"
   ]
  },
  {
   "cell_type": "code",
   "execution_count": 2,
   "id": "75de255d-aff0-4def-988c-2b292b71bf95",
   "metadata": {},
   "outputs": [
    {
     "name": "stdout",
     "output_type": "stream",
     "text": [
      "After adding 6: {1, 2, 3, 4, 5, 6}\n"
     ]
    }
   ],
   "source": [
    "my_set.add(6)\n",
    "print(\"After adding 6:\", my_set)"
   ]
  },
  {
   "cell_type": "markdown",
   "id": "bdf9ef1d-c2fb-4dd3-9dbb-b29dbd41b4fd",
   "metadata": {},
   "source": [
    "# **Removing elements from the set**"
   ]
  },
  {
   "cell_type": "code",
   "execution_count": 3,
   "id": "36558bbf-1f99-49ce-987b-4915bbd03657",
   "metadata": {},
   "outputs": [
    {
     "name": "stdout",
     "output_type": "stream",
     "text": [
      "After removing 3: {1, 2, 4, 5, 6}\n"
     ]
    }
   ],
   "source": [
    "my_set.remove(3)\n",
    "print(\"After removing 3:\", my_set)"
   ]
  },
  {
   "cell_type": "markdown",
   "id": "7a1f45a5-55f7-401b-8af6-d1aa868c177a",
   "metadata": {},
   "source": [
    "## *Discarding an element (doesn't raise an error if the element is not found)*"
   ]
  },
  {
   "cell_type": "code",
   "execution_count": 4,
   "id": "1a269c0e-b23e-44d1-9042-c0b64896863b",
   "metadata": {},
   "outputs": [
    {
     "name": "stdout",
     "output_type": "stream",
     "text": [
      "After discarding 2: {1, 4, 5, 6}\n"
     ]
    }
   ],
   "source": [
    "my_set.discard(2)\n",
    "print(\"After discarding 2:\", my_set)"
   ]
  },
  {
   "cell_type": "markdown",
   "id": "47e40fe5-b5e6-4455-b554-fbac01b9410a",
   "metadata": {},
   "source": [
    "## *Popping an element (removes and returns an arbitrary element)*"
   ]
  },
  {
   "cell_type": "code",
   "execution_count": 5,
   "id": "7aef120c-1f46-4767-8ac0-6e831519f2a0",
   "metadata": {},
   "outputs": [
    {
     "name": "stdout",
     "output_type": "stream",
     "text": [
      "After popping an element (removed 1): {4, 5, 6}\n"
     ]
    }
   ],
   "source": [
    "popped_element = my_set.pop()\n",
    "print(f\"After popping an element (removed {popped_element}):\", my_set)"
   ]
  },
  {
   "cell_type": "markdown",
   "id": "1b9240b7-4bc5-464c-8460-a855ef63929f",
   "metadata": {},
   "source": [
    "# **Additional Operations**"
   ]
  },
  {
   "cell_type": "markdown",
   "id": "533aca26-0020-4fa7-9002-e366295645da",
   "metadata": {},
   "source": [
    "## *Checking if an element exists in the set*"
   ]
  },
  {
   "cell_type": "code",
   "execution_count": 7,
   "id": "99677fb5-00a1-4da5-98d6-65f51c8b5c33",
   "metadata": {},
   "outputs": [
    {
     "name": "stdout",
     "output_type": "stream",
     "text": [
      "Does 4 exist in the set? True\n"
     ]
    }
   ],
   "source": [
    "element_exists = 4 in my_set\n",
    "print(\"Does 4 exist in the set?\", element_exists)"
   ]
  },
  {
   "cell_type": "markdown",
   "id": "65f6801c-948c-49a4-b687-ffbeb213b538",
   "metadata": {},
   "source": [
    "## *Getting the length of the set*"
   ]
  },
  {
   "cell_type": "code",
   "execution_count": 8,
   "id": "999e294c-32f0-4109-80d0-90e751a4e727",
   "metadata": {},
   "outputs": [
    {
     "name": "stdout",
     "output_type": "stream",
     "text": [
      "Length of the set: 3\n"
     ]
    }
   ],
   "source": [
    "set_length = len(my_set)\n",
    "print(\"Length of the set:\", set_length)"
   ]
  },
  {
   "cell_type": "markdown",
   "id": "c01d8ab6-aaff-4d45-8c39-447fb330ff4c",
   "metadata": {},
   "source": [
    "## *Clearing the set*"
   ]
  },
  {
   "cell_type": "code",
   "execution_count": 10,
   "id": "3ce7326f-0d8a-49e7-95d1-af0439f8bb88",
   "metadata": {},
   "outputs": [
    {
     "name": "stdout",
     "output_type": "stream",
     "text": [
      "After clearing the set: set()\n"
     ]
    }
   ],
   "source": [
    "my_set.clear()\n",
    "print(\"After clearing the set:\",my_set)"
   ]
  },
  {
   "cell_type": "markdown",
   "id": "cbb06676-b814-43db-baff-1b8a2c94b645",
   "metadata": {},
   "source": [
    "## *Union of sets*"
   ]
  },
  {
   "cell_type": "code",
   "execution_count": 11,
   "id": "ae2df2dd-2592-4b8a-8eea-4bb227289c78",
   "metadata": {},
   "outputs": [
    {
     "name": "stdout",
     "output_type": "stream",
     "text": [
      "Reinitialized set: {1, 2, 3, 4, 5}\n",
      "Another set: {4, 5, 6, 7, 8}\n",
      "Union of my_set and another_set: {1, 2, 3, 4, 5, 6, 7, 8}\n"
     ]
    }
   ],
   "source": [
    "my_set = {1, 2, 3, 4, 5}\n",
    "print(\"Reinitialized set:\", my_set)\n",
    "another_set = {4, 5, 6, 7, 8}\n",
    "print(\"Another set:\", another_set)\n",
    "union_set = my_set.union(another_set)\n",
    "print(\"Union of my_set and another_set:\", union_set)"
   ]
  },
  {
   "cell_type": "markdown",
   "id": "f4f5c3cc-b8ca-48f4-80ba-d7423aa2b580",
   "metadata": {},
   "source": [
    "## *Intersection of sets*"
   ]
  },
  {
   "cell_type": "code",
   "execution_count": 12,
   "id": "5716015a-ced8-45a4-b1ed-5dddf778422b",
   "metadata": {},
   "outputs": [
    {
     "name": "stdout",
     "output_type": "stream",
     "text": [
      "Intersection of my_set and another_set: {4, 5}\n"
     ]
    }
   ],
   "source": [
    "intersection_set = my_set.intersection(another_set)\n",
    "print(\"Intersection of my_set and another_set:\", intersection_set)"
   ]
  },
  {
   "cell_type": "markdown",
   "id": "5375dbbb-fb9a-48e6-be9f-e608f9abb460",
   "metadata": {},
   "source": [
    "## *Difference of sets*"
   ]
  },
  {
   "cell_type": "code",
   "execution_count": 13,
   "id": "5da2cccd-19e8-4549-9ff0-aa510eff5b47",
   "metadata": {},
   "outputs": [
    {
     "name": "stdout",
     "output_type": "stream",
     "text": [
      "Difference of my_set and another_set: {1, 2, 3}\n"
     ]
    }
   ],
   "source": [
    "difference_set = my_set.difference(another_set)\n",
    "print(\"Difference of my_set and another_set:\", difference_set)"
   ]
  },
  {
   "cell_type": "markdown",
   "id": "1452d281-d6a4-46a5-a5fa-4796def457da",
   "metadata": {},
   "source": [
    "## *Symmetric difference of sets*"
   ]
  },
  {
   "cell_type": "code",
   "execution_count": 14,
   "id": "3591bc82-fb8d-4355-9bf9-4267212497cd",
   "metadata": {},
   "outputs": [
    {
     "name": "stdout",
     "output_type": "stream",
     "text": [
      "Symmetric difference of my_set and another_set: {1, 2, 3, 6, 7, 8}\n"
     ]
    }
   ],
   "source": [
    "symmetric_difference_set = my_set.symmetric_difference(another_set)\n",
    "print(\"Symmetric difference of my_set and another_set:\", symmetric_difference_set)"
   ]
  },
  {
   "cell_type": "markdown",
   "id": "cd4786bc-4eb5-4081-a0d2-4f68082452e2",
   "metadata": {},
   "source": [
    "## *Checking if a set is a subset of another set*"
   ]
  },
  {
   "cell_type": "code",
   "execution_count": 15,
   "id": "55ed984f-bc72-4922-ad79-46b4ed1040e0",
   "metadata": {},
   "outputs": [
    {
     "name": "stdout",
     "output_type": "stream",
     "text": [
      "Is my_set a subset of another_set? False\n"
     ]
    }
   ],
   "source": [
    "is_subset = my_set.issubset(another_set)\n",
    "print(\"Is my_set a subset of another_set?\", is_subset)"
   ]
  },
  {
   "cell_type": "markdown",
   "id": "823fab63-ec15-465f-89aa-342ff864196c",
   "metadata": {},
   "source": [
    "## *Checking if a set is a superset of another set*"
   ]
  },
  {
   "cell_type": "code",
   "execution_count": 16,
   "id": "0af8cf64-2551-43a5-88dc-953cc636db46",
   "metadata": {},
   "outputs": [
    {
     "name": "stdout",
     "output_type": "stream",
     "text": [
      "Is my_set a superset of another_set? False\n"
     ]
    }
   ],
   "source": [
    "is_superset = my_set.issuperset(another_set)\n",
    "print(\"Is my_set a superset of another_set?\", is_superset)"
   ]
  },
  {
   "cell_type": "markdown",
   "id": "f45facb1-60bf-4012-adc1-37ccee6727da",
   "metadata": {},
   "source": [
    "## *Checking if two sets are disjoint (no common elements)*"
   ]
  },
  {
   "cell_type": "code",
   "execution_count": 17,
   "id": "8a9f4662-5fc4-4e0a-bde7-4989fd30e677",
   "metadata": {},
   "outputs": [
    {
     "name": "stdout",
     "output_type": "stream",
     "text": [
      "Are my_set and another_set disjoint? False\n"
     ]
    }
   ],
   "source": [
    "are_disjoint = my_set.isdisjoint(another_set)\n",
    "print(\"Are my_set and another_set disjoint?\", are_disjoint)"
   ]
  },
  {
   "cell_type": "markdown",
   "id": "5f061672-082f-471a-8a8d-8ab02f231cd6",
   "metadata": {},
   "source": [
    "## *Frozen set (immutable set)*"
   ]
  },
  {
   "cell_type": "code",
   "execution_count": 18,
   "id": "20671d8e-19bd-453e-8185-2b3fa4f11b6c",
   "metadata": {},
   "outputs": [
    {
     "name": "stdout",
     "output_type": "stream",
     "text": [
      "Frozen set: frozenset({1, 2, 3, 4, 5})\n"
     ]
    }
   ],
   "source": [
    "frozen_set = frozenset({1, 2, 3, 4, 5})\n",
    "print(\"Frozen set:\", frozen_set)"
   ]
  },
  {
   "cell_type": "markdown",
   "id": "0764b271-55da-4f66-a970-826c949f686c",
   "metadata": {},
   "source": [
    "## *Iterating through a set*"
   ]
  },
  {
   "cell_type": "code",
   "execution_count": 19,
   "id": "c1cf42aa-c08f-4d52-894f-28dbb272171f",
   "metadata": {},
   "outputs": [
    {
     "name": "stdout",
     "output_type": "stream",
     "text": [
      "Element: 1\n",
      "Element: 2\n",
      "Element: 3\n",
      "Element: 4\n",
      "Element: 5\n"
     ]
    }
   ],
   "source": [
    "for element in my_set:\n",
    "    print(f\"Element: {element}\")\n"
   ]
  },
  {
   "cell_type": "markdown",
   "id": "0e3e4432-4ca8-4d83-9879-f87cd7c35101",
   "metadata": {},
   "source": [
    "## *Set comprehension*"
   ]
  },
  {
   "cell_type": "code",
   "execution_count": 20,
   "id": "48a38e52-7250-4089-8eb3-50973ab5528a",
   "metadata": {},
   "outputs": [
    {
     "name": "stdout",
     "output_type": "stream",
     "text": [
      "Squared set: {1, 4, 9, 16, 25}\n"
     ]
    }
   ],
   "source": [
    "squared_set = {x**2 for x in my_set}\n",
    "print(\"Squared set:\", squared_set)"
   ]
  },
  {
   "cell_type": "markdown",
   "id": "f1567da6-0eca-4874-a12e-d8790416e02d",
   "metadata": {},
   "source": [
    "## *Finding the maximum and minimum elements in a set*"
   ]
  },
  {
   "cell_type": "code",
   "execution_count": 21,
   "id": "837f17b5-6a39-4235-a68a-642651028080",
   "metadata": {},
   "outputs": [
    {
     "name": "stdout",
     "output_type": "stream",
     "text": [
      "Maximum element: 5\n",
      "Minimum element: 1\n"
     ]
    }
   ],
   "source": [
    "max_element = max(my_set)\n",
    "min_element = min(my_set)\n",
    "print(\"Maximum element:\", max_element)\n",
    "print(\"Minimum element:\", min_element)"
   ]
  },
  {
   "cell_type": "markdown",
   "id": "5d51b2f5-a5bb-4219-8973-4969096ae7c7",
   "metadata": {},
   "source": [
    "## *Summing all elements in the set*"
   ]
  },
  {
   "cell_type": "code",
   "execution_count": 22,
   "id": "5cc0873c-ba96-428e-9d0e-a3b3ab76373c",
   "metadata": {},
   "outputs": [
    {
     "name": "stdout",
     "output_type": "stream",
     "text": [
      "Sum of all elements: 15\n"
     ]
    }
   ],
   "source": [
    "sum_elements = sum(my_set)\n",
    "print(\"Sum of all elements:\", sum_elements)"
   ]
  },
  {
   "cell_type": "markdown",
   "id": "32765ec9-17c4-4a7b-9399-574c3deb161e",
   "metadata": {},
   "source": [
    "## *Checking if all elements meet a condition*"
   ]
  },
  {
   "cell_type": "code",
   "execution_count": 23,
   "id": "d283831e-db0f-4730-8af2-88a3ff52680f",
   "metadata": {},
   "outputs": [
    {
     "name": "stdout",
     "output_type": "stream",
     "text": [
      "Are all elements in my_set greater than 0? True\n"
     ]
    }
   ],
   "source": [
    "all_greater_than_zero = all(x > 0 for x in my_set)\n",
    "print(\"Are all elements in my_set greater than 0?\", all_greater_than_zero)"
   ]
  },
  {
   "cell_type": "markdown",
   "id": "6dce36ab-a1f5-4577-a255-34721600c0a5",
   "metadata": {},
   "source": [
    "## *Checking if any element meets a condition*"
   ]
  },
  {
   "cell_type": "code",
   "execution_count": 24,
   "id": "f68d9560-73bd-4f93-94a4-ab29ec63e29d",
   "metadata": {},
   "outputs": [
    {
     "name": "stdout",
     "output_type": "stream",
     "text": [
      "Is any element in my_set greater than 4? True\n"
     ]
    }
   ],
   "source": [
    "any_greater_than_four = any(x > 4 for x in my_set)\n",
    "print(\"Is any element in my_set greater than 4?\", any_greater_than_four)"
   ]
  },
  {
   "cell_type": "code",
   "execution_count": null,
   "id": "52d19456-8cbe-45f9-8a70-2ea6e587acd4",
   "metadata": {},
   "outputs": [],
   "source": []
  }
 ],
 "metadata": {
  "kernelspec": {
   "display_name": "Python 3 (ipykernel)",
   "language": "python",
   "name": "python3"
  },
  "language_info": {
   "codemirror_mode": {
    "name": "ipython",
    "version": 3
   },
   "file_extension": ".py",
   "mimetype": "text/x-python",
   "name": "python",
   "nbconvert_exporter": "python",
   "pygments_lexer": "ipython3",
   "version": "3.12.3"
  }
 },
 "nbformat": 4,
 "nbformat_minor": 5
}
