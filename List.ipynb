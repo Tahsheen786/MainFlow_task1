{
 "cells": [
  {
   "cell_type": "markdown",
   "id": "a1fe061d-5460-4ea7-b9be-bea19ddf73a4",
   "metadata": {},
   "source": [
    "# **List Operations**"
   ]
  },
  {
   "cell_type": "markdown",
   "id": "45c67fcc-fa31-4549-a35d-3835cd7e63ae",
   "metadata": {},
   "source": [
    "# *Creating a List*"
   ]
  },
  {
   "cell_type": "code",
   "execution_count": 23,
   "id": "8661ed42-83be-4a38-9524-77d46544acac",
   "metadata": {},
   "outputs": [
    {
     "name": "stdout",
     "output_type": "stream",
     "text": [
      "Initial List:  [1, 2, 3, 4, 5]\n"
     ]
    }
   ],
   "source": [
    "my_list= [1, 2, 3, 4, 5]\n",
    "print(\"Initial List: \", my_list)"
   ]
  },
  {
   "cell_type": "markdown",
   "id": "d1fa8a13-614e-45f4-9b77-b2ed08981db1",
   "metadata": {},
   "source": [
    "# *Adding Elements to the List*"
   ]
  },
  {
   "cell_type": "markdown",
   "id": "080c7dba-1bc8-4ff1-bedd-57aa4aeac96f",
   "metadata": {},
   "source": [
    "####     *Appending an element at the end*"
   ]
  },
  {
   "cell_type": "code",
   "execution_count": 2,
   "id": "304e5784-fd3c-4ebd-abfb-ad7b9e82de30",
   "metadata": {},
   "outputs": [
    {
     "name": "stdout",
     "output_type": "stream",
     "text": [
      "After appending 6:  [1, 2, 3, 4, 5, 6]\n"
     ]
    }
   ],
   "source": [
    "my_list.append(6)\n",
    "print(\"After appending 6: \", my_list)"
   ]
  },
  {
   "cell_type": "markdown",
   "id": "25454e37-1b4c-4f05-b2da-ee8f9e48514e",
   "metadata": {},
   "source": [
    "####   *Insert an element at a specific position*"
   ]
  },
  {
   "cell_type": "code",
   "execution_count": 4,
   "id": "817123d1-0a6e-4817-a1f7-318597e088da",
   "metadata": {},
   "outputs": [
    {
     "name": "stdout",
     "output_type": "stream",
     "text": [
      "After inserting 2.5 at index 2: [1, 2, 2.5, 2.5, 3, 4, 5, 6]\n"
     ]
    }
   ],
   "source": [
    "my_list.insert(2,2.5) \n",
    "print(\"After inserting 2.5 at index 2:\", my_list)"
   ]
  },
  {
   "cell_type": "markdown",
   "id": "6eb10628-4bad-450a-97d2-7d6aa0deba7b",
   "metadata": {},
   "source": [
    "# *Removing Elements from the List*"
   ]
  },
  {
   "cell_type": "markdown",
   "id": "56b89f6b-4c2c-44e6-bf0e-595926d1de5b",
   "metadata": {},
   "source": [
    "####   *Remove a specific element by value*"
   ]
  },
  {
   "cell_type": "code",
   "execution_count": 5,
   "id": "474e594e-ca82-4265-88cf-61a951940485",
   "metadata": {},
   "outputs": [
    {
     "name": "stdout",
     "output_type": "stream",
     "text": [
      "After removing 3: [1, 2, 2.5, 2.5, 4, 5, 6]\n"
     ]
    }
   ],
   "source": [
    "my_list.remove(3)\n",
    "print(\"After removing 3:\", my_list)"
   ]
  },
  {
   "cell_type": "markdown",
   "id": "46c10417-42b7-43bf-b891-0f526c50278c",
   "metadata": {},
   "source": [
    "####   *Remove an element by index*"
   ]
  },
  {
   "cell_type": "code",
   "execution_count": 6,
   "id": "b363edab-37a3-4367-957e-16f89b53fe29",
   "metadata": {},
   "outputs": [
    {
     "name": "stdout",
     "output_type": "stream",
     "text": [
      "After popping element at index 1 (removed 2): [1, 2.5, 2.5, 4, 5, 6]\n"
     ]
    }
   ],
   "source": [
    "removed_element = my_list.pop(1)\n",
    "print(f\"After popping element at index 1 (removed {removed_element}):\", my_list)"
   ]
  },
  {
   "cell_type": "markdown",
   "id": "ce8c7a3a-1fbd-40b3-88f4-cb56e371ca2c",
   "metadata": {},
   "source": [
    "# *Modifying Elements in the List*"
   ]
  },
  {
   "cell_type": "markdown",
   "id": "bcdf8149-3113-43d2-be88-3f25d003b85d",
   "metadata": {},
   "source": [
    "####   *Modify the element at a specific index*"
   ]
  },
  {
   "cell_type": "code",
   "execution_count": 7,
   "id": "f288a40e-4d1a-4c4e-a3e5-fdccfd6b657c",
   "metadata": {},
   "outputs": [
    {
     "name": "stdout",
     "output_type": "stream",
     "text": [
      "After modifying element at index 0 to 10: [10, 2.5, 2.5, 4, 5, 6]\n"
     ]
    }
   ],
   "source": [
    "my_list[0] = 10\n",
    "print(\"After modifying element at index 0 to 10:\", my_list)"
   ]
  },
  {
   "cell_type": "markdown",
   "id": "3a82fd9f-4f9d-43f3-b56d-6224d7c4707e",
   "metadata": {},
   "source": [
    "####   *Extend the list by adding multiple elements*"
   ]
  },
  {
   "cell_type": "code",
   "execution_count": 8,
   "id": "0c5b0e4d-723e-4a9e-9572-ab94e88d4935",
   "metadata": {},
   "outputs": [
    {
     "name": "stdout",
     "output_type": "stream",
     "text": [
      "After extending the list with [7, 8, 9]: [10, 2.5, 2.5, 4, 5, 6, 7, 8, 9]\n"
     ]
    }
   ],
   "source": [
    "my_list.extend([7, 8, 9])\n",
    "print(\"After extending the list with [7, 8, 9]:\", my_list)"
   ]
  },
  {
   "cell_type": "markdown",
   "id": "3afec831-d97b-4f4f-af26-04ece225a47a",
   "metadata": {},
   "source": [
    "# *Additional operations*"
   ]
  },
  {
   "cell_type": "markdown",
   "id": "584fed10-9261-4462-8103-0591c02a16ad",
   "metadata": {},
   "source": [
    "####   *Getting the length of the list*"
   ]
  },
  {
   "cell_type": "code",
   "execution_count": 9,
   "id": "411061e2-43f8-4b8e-bfe1-d57863a9def4",
   "metadata": {},
   "outputs": [
    {
     "name": "stdout",
     "output_type": "stream",
     "text": [
      "Length of the list: 9\n"
     ]
    }
   ],
   "source": [
    "print(\"Length of the list:\", len(my_list))"
   ]
  },
  {
   "cell_type": "markdown",
   "id": "be05220b-e425-4dfb-b0a6-2bbf6befa6d9",
   "metadata": {},
   "source": [
    "####   *Accessing elements by index*"
   ]
  },
  {
   "cell_type": "code",
   "execution_count": 10,
   "id": "92b9e33c-6386-47c3-a7ca-306389229006",
   "metadata": {},
   "outputs": [
    {
     "name": "stdout",
     "output_type": "stream",
     "text": [
      "First element: 10\n",
      "Last element: 9\n"
     ]
    }
   ],
   "source": [
    "first_element = my_list[0]\n",
    "last_element = my_list[-1]\n",
    "print(\"First element:\", first_element)\n",
    "print(\"Last element:\", last_element)\n"
   ]
  },
  {
   "cell_type": "markdown",
   "id": "eea9b0f0-1487-47ea-a21a-2ccb27b2d1bf",
   "metadata": {},
   "source": [
    "####   *Slicing the list*"
   ]
  },
  {
   "cell_type": "code",
   "execution_count": 11,
   "id": "2548b444-2079-46c3-b370-575b204c1c95",
   "metadata": {},
   "outputs": [
    {
     "name": "stdout",
     "output_type": "stream",
     "text": [
      "Sub-list from index 2 to 4: [2.5, 4, 5]\n"
     ]
    }
   ],
   "source": [
    "sub_list = my_list[2:5]  # Get elements from index 2 to 4\n",
    "print(\"Sub-list from index 2 to 4:\", sub_list)"
   ]
  },
  {
   "cell_type": "markdown",
   "id": "cfcd6d84-568b-4d6a-b023-3cd30502580a",
   "metadata": {},
   "source": [
    "####   *Reversing the list*"
   ]
  },
  {
   "cell_type": "code",
   "execution_count": 12,
   "id": "dcac5fd0-89b8-4f20-bd51-3444b8eb1c6b",
   "metadata": {},
   "outputs": [
    {
     "name": "stdout",
     "output_type": "stream",
     "text": [
      "After reversing the list: [9, 8, 7, 6, 5, 4, 2.5, 2.5, 10]\n"
     ]
    }
   ],
   "source": [
    "my_list.reverse()\n",
    "print(\"After reversing the list:\", my_list)"
   ]
  },
  {
   "cell_type": "markdown",
   "id": "c45d9ddc-71a8-44c4-b239-d0341f58fa4b",
   "metadata": {},
   "source": [
    "####   *Sorting the list*"
   ]
  },
  {
   "cell_type": "code",
   "execution_count": 13,
   "id": "77dcc381-943d-4360-8280-9e312172b3fc",
   "metadata": {},
   "outputs": [
    {
     "name": "stdout",
     "output_type": "stream",
     "text": [
      "After sorting the list: [2.5, 2.5, 4, 5, 6, 7, 8, 9, 10]\n"
     ]
    }
   ],
   "source": [
    "my_list.sort()\n",
    "print(\"After sorting the list:\", my_list)"
   ]
  },
  {
   "cell_type": "markdown",
   "id": "9346c48c-7587-4382-a676-bec4aad3716d",
   "metadata": {},
   "source": [
    "####   *Sorting the list*"
   ]
  },
  {
   "cell_type": "code",
   "execution_count": 14,
   "id": "ad7f7cb0-4a51-4050-966f-0e4beb97b77d",
   "metadata": {},
   "outputs": [
    {
     "name": "stdout",
     "output_type": "stream",
     "text": [
      "After sorting the list: [2.5, 2.5, 4, 5, 6, 7, 8, 9, 10]\n"
     ]
    }
   ],
   "source": [
    "my_list.sort()\n",
    "print(\"After sorting the list:\", my_list)"
   ]
  },
  {
   "cell_type": "markdown",
   "id": "734398a8-8856-462a-8f84-40fbea610a53",
   "metadata": {},
   "source": [
    "####   *Finding the index of an element*"
   ]
  },
  {
   "cell_type": "code",
   "execution_count": 15,
   "id": "0b0a245b-c618-4fa7-b8c3-2d7a5b407d81",
   "metadata": {},
   "outputs": [
    {
     "name": "stdout",
     "output_type": "stream",
     "text": [
      "Index of element 7: 5\n"
     ]
    }
   ],
   "source": [
    "index_of_7 = my_list.index(7)\n",
    "print(\"Index of element 7:\", index_of_7)"
   ]
  },
  {
   "cell_type": "markdown",
   "id": "db7b17ef-7226-49ad-85c4-e5cfe18be396",
   "metadata": {},
   "source": [
    "####   *Counting occurrences of an element*"
   ]
  },
  {
   "cell_type": "code",
   "execution_count": 16,
   "id": "364a8538-cb16-4f24-8941-ea42036b128f",
   "metadata": {},
   "outputs": [
    {
     "name": "stdout",
     "output_type": "stream",
     "text": [
      "Count of element 2.5: 2\n"
     ]
    }
   ],
   "source": [
    "count_of_2_5 = my_list.count(2.5)\n",
    "print(\"Count of element 2.5:\", count_of_2_5)"
   ]
  },
  {
   "cell_type": "markdown",
   "id": "67bc9be6-6c72-425f-ba78-835e512482a7",
   "metadata": {},
   "source": [
    "####   *Copying the list*"
   ]
  },
  {
   "cell_type": "code",
   "execution_count": 17,
   "id": "e80e50d7-f89b-4f98-a98f-c5eed76eb12d",
   "metadata": {},
   "outputs": [
    {
     "name": "stdout",
     "output_type": "stream",
     "text": [
      "Copied list: [2.5, 2.5, 4, 5, 6, 7, 8, 9, 10]\n"
     ]
    }
   ],
   "source": [
    "copied_list = my_list.copy()\n",
    "print(\"Copied list:\", copied_list)"
   ]
  },
  {
   "cell_type": "markdown",
   "id": "3a807e00-7aa6-4f6b-874d-a65716602011",
   "metadata": {},
   "source": [
    "####   *Clearing the list*"
   ]
  },
  {
   "cell_type": "code",
   "execution_count": 18,
   "id": "01b5761b-94cb-49d1-81a4-71a081fe292e",
   "metadata": {},
   "outputs": [
    {
     "name": "stdout",
     "output_type": "stream",
     "text": [
      "After clearing the list: []\n"
     ]
    }
   ],
   "source": [
    "my_list.clear()\n",
    "print(\"After clearing the list:\", my_list)"
   ]
  },
  {
   "cell_type": "markdown",
   "id": "2d2fc339-a6c2-460f-9c28-ae0c51d0644e",
   "metadata": {},
   "source": [
    "####   *Checking if the list is empty*"
   ]
  },
  {
   "cell_type": "code",
   "execution_count": 19,
   "id": "a9391d20-cb57-4239-8d57-24fbe58d3b33",
   "metadata": {},
   "outputs": [
    {
     "name": "stdout",
     "output_type": "stream",
     "text": [
      "Is the list empty? True\n"
     ]
    }
   ],
   "source": [
    "is_empty = len(my_list) == 0\n",
    "print(\"Is the list empty?\", is_empty)"
   ]
  },
  {
   "cell_type": "markdown",
   "id": "58e40e57-fede-4fac-8141-eeb1f3be0e4c",
   "metadata": {},
   "source": [
    "####   *Reinitializing the list with new elements*"
   ]
  },
  {
   "cell_type": "code",
   "execution_count": 21,
   "id": "ea749e26-bab0-4d2c-936d-1997395b81c8",
   "metadata": {},
   "outputs": [
    {
     "name": "stdout",
     "output_type": "stream",
     "text": [
      "Reinitialized list: [10, 20, 30, 40, 50]\n"
     ]
    }
   ],
   "source": [
    "my_list = [10, 20, 30, 40, 50]\n",
    "print(\"Reinitialized list:\", my_list)"
   ]
  },
  {
   "cell_type": "markdown",
   "id": "8990ed2c-c1a0-45ad-8ff6-1986c8431f79",
   "metadata": {},
   "source": [
    "####   *Summing all elements in the list*"
   ]
  },
  {
   "cell_type": "code",
   "execution_count": 22,
   "id": "f7f1702a-decc-41d2-a069-198fdd31c5c9",
   "metadata": {},
   "outputs": [
    {
     "name": "stdout",
     "output_type": "stream",
     "text": [
      "Sum of all elements: 150\n"
     ]
    }
   ],
   "source": [
    "sum_of_elements = sum(my_list)\n",
    "print(\"Sum of all elements:\", sum_of_elements)"
   ]
  },
  {
   "cell_type": "markdown",
   "id": "d5a689a8-3a5b-4704-83ae-f1f0ed3edfc5",
   "metadata": {},
   "source": [
    "####   *Minimum and maximum elements in the list*"
   ]
  },
  {
   "cell_type": "code",
   "execution_count": 24,
   "id": "b775afbc-5dfd-47c6-b81a-b65a82ab2a3c",
   "metadata": {},
   "outputs": [
    {
     "name": "stdout",
     "output_type": "stream",
     "text": [
      "Minimum element: 1\n",
      "Maximum element: 5\n"
     ]
    }
   ],
   "source": [
    "min_element = min(my_list)\n",
    "max_element = max(my_list)\n",
    "print(\"Minimum element:\", min_element)\n",
    "print(\"Maximum element:\", max_element)"
   ]
  },
  {
   "cell_type": "markdown",
   "id": "e746e75e-f5fb-4177-958c-3491acbf5946",
   "metadata": {},
   "source": [
    "####   *Checking if an element is in the list*"
   ]
  },
  {
   "cell_type": "code",
   "execution_count": 25,
   "id": "c07769e9-a3ec-4575-b460-1b60b7803b96",
   "metadata": {},
   "outputs": [
    {
     "name": "stdout",
     "output_type": "stream",
     "text": [
      "Does 20 exist in the list? False\n"
     ]
    }
   ],
   "source": [
    "element_exists = 20 in my_list\n",
    "print(\"Does 20 exist in the list?\", element_exists)"
   ]
  },
  {
   "cell_type": "markdown",
   "id": "b50fcaec-3bd3-40db-b3fc-655f78529d86",
   "metadata": {},
   "source": [
    "####   *List comprehension to square elements*"
   ]
  },
  {
   "cell_type": "code",
   "execution_count": 26,
   "id": "b3ff2f6f-fe43-472d-82cf-1f7050e56542",
   "metadata": {},
   "outputs": [
    {
     "name": "stdout",
     "output_type": "stream",
     "text": [
      "Squared list: [1, 4, 9, 16, 25]\n"
     ]
    }
   ],
   "source": [
    "squared_list = [x**2 for x in my_list]\n",
    "print(\"Squared list:\", squared_list)"
   ]
  },
  {
   "cell_type": "markdown",
   "id": "f2924d64-be86-4158-a5e9-5d2f5dfa1a4d",
   "metadata": {},
   "source": [
    "####   *Concatenation of two lists*"
   ]
  },
  {
   "cell_type": "code",
   "execution_count": 27,
   "id": "af7a4700-f85c-4880-b956-43fd975f1cb6",
   "metadata": {},
   "outputs": [
    {
     "name": "stdout",
     "output_type": "stream",
     "text": [
      "Concatenated list: [1, 2, 3, 4, 5, 60, 70, 80]\n"
     ]
    }
   ],
   "source": [
    "another_list = [60, 70, 80]\n",
    "concatenated_list = my_list + another_list\n",
    "print(\"Concatenated list:\", concatenated_list)"
   ]
  },
  {
   "cell_type": "markdown",
   "id": "f99d8535-5b53-4c28-9867-c2ec13e9b39a",
   "metadata": {},
   "source": [
    "####   *Repetition of elements in the list*"
   ]
  },
  {
   "cell_type": "code",
   "execution_count": 28,
   "id": "1f374b8f-35ea-4eae-8697-7947e64d1405",
   "metadata": {},
   "outputs": [
    {
     "name": "stdout",
     "output_type": "stream",
     "text": [
      "Repeated list: [1, 2, 3, 4, 5, 1, 2, 3, 4, 5]\n"
     ]
    }
   ],
   "source": [
    "repeated_list = my_list * 2\n",
    "print(\"Repeated list:\", repeated_list)"
   ]
  },
  {
   "cell_type": "markdown",
   "id": "66bca175-2264-4950-ad12-0afbfacd4c18",
   "metadata": {},
   "source": [
    "####   *Flattening a nested list*"
   ]
  },
  {
   "cell_type": "code",
   "execution_count": 29,
   "id": "5f9131de-7930-419a-a8b8-9c1b25f71010",
   "metadata": {},
   "outputs": [
    {
     "name": "stdout",
     "output_type": "stream",
     "text": [
      "Flattened list: [1, 2, 3, 4, 5, 6]\n"
     ]
    }
   ],
   "source": [
    "nested_list = [[1, 2], [3, 4], [5, 6]]\n",
    "flattened_list = [element for sublist in nested_list for element in sublist]\n",
    "print(\"Flattened list:\", flattened_list)"
   ]
  },
  {
   "cell_type": "markdown",
   "id": "4d32ad7d-a4be-4909-8ec5-7c916c9f2902",
   "metadata": {},
   "source": [
    "####   *Converting a list to a string*"
   ]
  },
  {
   "cell_type": "code",
   "execution_count": 30,
   "id": "fda634b2-44af-450c-8944-57d3cad78f52",
   "metadata": {},
   "outputs": [
    {
     "name": "stdout",
     "output_type": "stream",
     "text": [
      "List as a string: 1, 2, 3, 4, 5\n"
     ]
    }
   ],
   "source": [
    "list_as_string = ', '.join(map(str, my_list))\n",
    "print(\"List as a string:\", list_as_string)"
   ]
  },
  {
   "cell_type": "markdown",
   "id": "928ba7da-85e7-4d8d-9089-37190b02f3a1",
   "metadata": {},
   "source": [
    "####   *Finding the intersection of two lists*"
   ]
  },
  {
   "cell_type": "code",
   "execution_count": 34,
   "id": "8193989b-f1ae-4a30-b5d6-6c73aebf82f7",
   "metadata": {},
   "outputs": [
    {
     "name": "stdout",
     "output_type": "stream",
     "text": [
      "Intersection of list_a and list_b: [40, 50, 30]\n"
     ]
    }
   ],
   "source": [
    "list_a = [10, 20, 30, 40, 50]\n",
    "list_b = [30, 40, 50, 60, 70]\n",
    "intersection = list(set(list_a) & set(list_b))\n",
    "print(\"Intersection of list_a and list_b:\", intersection)"
   ]
  },
  {
   "cell_type": "markdown",
   "id": "1a1fd445-759c-4d10-ad47-5e7736a90020",
   "metadata": {},
   "source": [
    "####   *Finding the union of two lists*"
   ]
  },
  {
   "cell_type": "code",
   "execution_count": 35,
   "id": "35663389-819f-4ca7-917a-4848db196052",
   "metadata": {},
   "outputs": [
    {
     "name": "stdout",
     "output_type": "stream",
     "text": [
      "Union of list_a and list_b: [70, 40, 10, 50, 20, 60, 30]\n"
     ]
    }
   ],
   "source": [
    "union = list(set(list_a) | set(list_b))\n",
    "print(\"Union of list_a and list_b:\", union)"
   ]
  },
  {
   "cell_type": "markdown",
   "id": "892fed06-0e00-4070-8277-67378968e9e2",
   "metadata": {},
   "source": [
    "####   *Finding the difference between two lists*"
   ]
  },
  {
   "cell_type": "code",
   "execution_count": 37,
   "id": "bc244e1f-d33d-4e74-9532-f334e2eb7c9a",
   "metadata": {},
   "outputs": [
    {
     "name": "stdout",
     "output_type": "stream",
     "text": [
      "Difference between list_a and list_b: [10, 20]\n"
     ]
    }
   ],
   "source": [
    "difference = list(set(list_a) - set(list_b))\n",
    "print(\"Difference between list_a and list_b:\", difference)"
   ]
  },
  {
   "cell_type": "markdown",
   "id": "5d1d551c-2067-4737-8333-b82ebda46c00",
   "metadata": {},
   "source": [
    "####   *Checking if all elements meet a condition*"
   ]
  },
  {
   "cell_type": "code",
   "execution_count": 38,
   "id": "bc550c6d-d06f-4086-93c6-ca2ad1dcd136",
   "metadata": {},
   "outputs": [
    {
     "name": "stdout",
     "output_type": "stream",
     "text": [
      "Are all elements in my_list greater than 5? False\n"
     ]
    }
   ],
   "source": [
    "all_greater_than_5 = all(x > 5 for x in my_list)\n",
    "print(\"Are all elements in my_list greater than 5?\", all_greater_than_5)"
   ]
  },
  {
   "cell_type": "markdown",
   "id": "33e4b8a0-bcf4-4c86-b056-e486296909e2",
   "metadata": {},
   "source": [
    "####   *Checking if any element meets a condition*"
   ]
  },
  {
   "cell_type": "code",
   "execution_count": 39,
   "id": "fc8f154b-d2c2-460e-801a-53b6df76a037",
   "metadata": {},
   "outputs": [
    {
     "name": "stdout",
     "output_type": "stream",
     "text": [
      "Is any element in my_list greater than 25? False\n"
     ]
    }
   ],
   "source": [
    "any_greater_than_25 = any(x > 25 for x in my_list)\n",
    "print(\"Is any element in my_list greater than 25?\", any_greater_than_25)"
   ]
  },
  {
   "cell_type": "markdown",
   "id": "f55492b7-c099-4d40-9c43-71b90bfc7fc0",
   "metadata": {},
   "source": [
    "####   *Zipping two lists*"
   ]
  },
  {
   "cell_type": "code",
   "execution_count": 40,
   "id": "8516ab6d-a585-4728-a18c-cee6f453fe1b",
   "metadata": {},
   "outputs": [
    {
     "name": "stdout",
     "output_type": "stream",
     "text": [
      "Zipped list of list_a and list_b: [(10, 30), (20, 40), (30, 50), (40, 60), (50, 70)]\n"
     ]
    }
   ],
   "source": [
    "zipped_list = list(zip(list_a, list_b))\n",
    "print(\"Zipped list of list_a and list_b:\", zipped_list)"
   ]
  },
  {
   "cell_type": "markdown",
   "id": "11a9066c-7b8b-4264-b07f-18e14836d476",
   "metadata": {},
   "source": [
    "####   *Unzipping a list of tuples*"
   ]
  },
  {
   "cell_type": "code",
   "execution_count": 41,
   "id": "ffaa867f-2468-482c-ad57-609c7800b7ea",
   "metadata": {},
   "outputs": [
    {
     "name": "stdout",
     "output_type": "stream",
     "text": [
      "Unzipped lists: [10, 20, 30, 40, 50] [30, 40, 50, 60, 70]\n"
     ]
    }
   ],
   "source": [
    "unzipped_list_a, unzipped_list_b = zip(*zipped_list)\n",
    "print(\"Unzipped lists:\", list(unzipped_list_a), list(unzipped_list_b))"
   ]
  },
  {
   "cell_type": "code",
   "execution_count": null,
   "id": "ab0047ce-dcc2-4932-a11a-a46c206025fd",
   "metadata": {},
   "outputs": [],
   "source": []
  }
 ],
 "metadata": {
  "kernelspec": {
   "display_name": "Python 3 (ipykernel)",
   "language": "python",
   "name": "python3"
  },
  "language_info": {
   "codemirror_mode": {
    "name": "ipython",
    "version": 3
   },
   "file_extension": ".py",
   "mimetype": "text/x-python",
   "name": "python",
   "nbconvert_exporter": "python",
   "pygments_lexer": "ipython3",
   "version": "3.12.3"
  }
 },
 "nbformat": 4,
 "nbformat_minor": 5
}
